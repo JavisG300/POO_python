{
 "cells": [
  {
   "attachments": {},
   "cell_type": "markdown",
   "metadata": {},
   "source": [
    "# POO en python"
   ]
  },
  {
   "attachments": {},
   "cell_type": "markdown",
   "metadata": {},
   "source": [
    "## Clases\n",
    "\n",
    "Las clases proporcionan un medio de agrupar datos y funcionalidad junytos. La creación de una nueva clase crea un tipo de objeto, lo que permite crear nuevas instancias de este tipo.\n",
    "\n",
    "Cada instancia de clase puede tener atributos adjutnos para mantener su estado. Las instancias de clase también pueden tener métodos (definidos por su clase) para modificar su estado"
   ]
  },
  {
   "attachments": {},
   "cell_type": "markdown",
   "metadata": {},
   "source": [
    "**Sintaxis de clase**"
   ]
  },
  {
   "cell_type": "code",
   "execution_count": 1,
   "metadata": {},
   "outputs": [],
   "source": [
    "class ClassName:\n",
    "    pass"
   ]
  },
  {
   "attachments": {},
   "cell_type": "markdown",
   "metadata": {},
   "source": [
    "Usamos la palabra clave class para definir una clase"
   ]
  },
  {
   "cell_type": "code",
   "execution_count": 2,
   "metadata": {},
   "outputs": [],
   "source": [
    "class Car:\n",
    "    pass"
   ]
  },
  {
   "attachments": {},
   "cell_type": "markdown",
   "metadata": {},
   "source": [
    "## Métodos\n",
    "\n",
    "Los métodos se parecen a las funciones. La diferencia es que los métodos dependen de un objeto, y se invocan utilizando su referenci de clase. Se definen dentro de la clase.\n",
    "\n",
    "En la clase **Car** pueden existir dos métodos **Engine** (un motor) y **Wheel** (llantas)"
   ]
  },
  {
   "cell_type": "code",
   "execution_count": 3,
   "metadata": {},
   "outputs": [],
   "source": [
    "class Car:\n",
    "    def engine(self):\n",
    "        print('Engine')\n",
    "    def wheel(self):\n",
    "        print('Wheel')"
   ]
  },
  {
   "cell_type": "code",
   "execution_count": 4,
   "metadata": {},
   "outputs": [
    {
     "name": "stdout",
     "output_type": "stream",
     "text": [
      "Engine\n"
     ]
    }
   ],
   "source": [
    "Car().engine()"
   ]
  },
  {
   "attachments": {},
   "cell_type": "markdown",
   "metadata": {},
   "source": [
    "Aquí llamamos al método engine utilizando la referencia Car(). No proporciona ningún contenido real puesto que la clase define el motor pero no indica el motor específico."
   ]
  },
  {
   "attachments": {},
   "cell_type": "markdown",
   "metadata": {},
   "source": [
    "## Objetos\n",
    "\n",
    "El objeto es una instancia de la clase. Considerando la clase anterior, **Car** es la clase y por ejemplo Toyota es el objeto. Podemos crear múltiples copias del objeto y cada objeto puede definirse utilzando la clase.\n",
    "\n",
    "La sintaxis para crear un objeto:"
   ]
  },
  {
   "cell_type": "code",
   "execution_count": 5,
   "metadata": {},
   "outputs": [],
   "source": [
    "toyota =  Car()"
   ]
  },
  {
   "attachments": {},
   "cell_type": "markdown",
   "metadata": {},
   "source": [
    "Los objetos admiten dos tipos de operaciones: refrencias de atributos e instanciación.\n",
    "\n",
    "**La instanciación** de clase utiliza la notación de función. La operación de \"instanciar\" llama a un objeto de clase y crea un objeto vacío.\n",
    "\n",
    "Ahora podemos llamar a diferentes métodos de nuestra clase Car usando el objeto toyota que hemos creado."
   ]
  },
  {
   "cell_type": "code",
   "execution_count": 6,
   "metadata": {},
   "outputs": [
    {
     "name": "stdout",
     "output_type": "stream",
     "text": [
      "Engine\n",
      "Wheel\n"
     ]
    }
   ],
   "source": [
    "if __name__ == \"__main__\":\n",
    "    toyota.engine()\n",
    "    toyota.wheel()"
   ]
  },
  {
   "attachments": {},
   "cell_type": "markdown",
   "metadata": {},
   "source": [
    "## Constructor (constructo)\n",
    "\n",
    "El método __ init __ es el método construtor de Python. El método constructor se utiliza para inicializar los datos."
   ]
  },
  {
   "cell_type": "code",
   "execution_count": 7,
   "metadata": {},
   "outputs": [],
   "source": [
    "class Car:\n",
    "    def __init__(self):\n",
    "        print(\"Hello I am the constructor method\")"
   ]
  },
  {
   "cell_type": "code",
   "execution_count": 8,
   "metadata": {},
   "outputs": [
    {
     "name": "stdout",
     "output_type": "stream",
     "text": [
      "Hello I am the constructor method\n"
     ]
    }
   ],
   "source": [
    "toyota = Car()"
   ]
  },
  {
   "attachments": {},
   "cell_type": "markdown",
   "metadata": {},
   "source": [
    "## Atributos de instancia\n",
    "\n",
    "Los atributos son las propiedades del objeto. Se utiliza el método __ init __() para especificar el atributo inicial de un objeto."
   ]
  },
  {
   "cell_type": "code",
   "execution_count": 9,
   "metadata": {},
   "outputs": [],
   "source": [
    "class Car:\n",
    "    def __init__(self, model):\n",
    "        self.model = model #Atributo de instancia"
   ]
  },
  {
   "attachments": {},
   "cell_type": "markdown",
   "metadata": {},
   "source": [
    "En este caso cada objeto tiene un modelo específico. Por lo tanto, los atributos de instancia son únicos para cada instancia."
   ]
  },
  {
   "attachments": {},
   "cell_type": "markdown",
   "metadata": {},
   "source": [
    "## Atributos de clase\n",
    "\n",
    "Los atributos de clase son los mismos para todas las instancias"
   ]
  },
  {
   "cell_type": "code",
   "execution_count": 10,
   "metadata": {},
   "outputs": [],
   "source": [
    "class Car():\n",
    "    no_of_wheels = 4 #Atributo de clase"
   ]
  },
  {
   "cell_type": "code",
   "execution_count": 11,
   "metadata": {},
   "outputs": [
    {
     "name": "stdout",
     "output_type": "stream",
     "text": [
      "The brand is BMW\n"
     ]
    }
   ],
   "source": [
    "class Car():\n",
    "    def __init__(self, model):\n",
    "        self.model = model\n",
    "\n",
    "    def brand(self):\n",
    "        print(\"The brand is\", self.model)\n",
    "\n",
    "if __name__ == \"__main__\":\n",
    "    car = Car(\"BMW\")\n",
    "    car.brand()"
   ]
  },
  {
   "attachments": {},
   "cell_type": "markdown",
   "metadata": {},
   "source": [
    "## Herencia\n",
    "\n",
    "La herencia se refiere a cuando una clase hereda la propiedad de otra clase.\n",
    "\n",
    "La clase de la que se heredan las propiedades se llama clase base y la que hereda la propiedad se llama clase derivada.\n",
    "\n",
    "La herencia se suele definir como una relación padre e hijo (el hijo hereda las propiedades del padre).\n",
    "\n",
    "La **sintaxis** se ve algo así: \n",
    "\n",
    "class *DerivedClassName(BaseClassName):*\n",
    "\n",
    "Las clases secundarias anulan o amplían los atributos y comportamientos de los métodos de la clase principal."
   ]
  },
  {
   "attachments": {},
   "cell_type": "markdown",
   "metadata": {},
   "source": [
    "#### **Modificando el ejemplo anterior**"
   ]
  },
  {
   "cell_type": "code",
   "execution_count": 12,
   "metadata": {},
   "outputs": [],
   "source": [
    "#Creamos una clase base llamada Vehicle\n",
    "class Vehicle:\n",
    "    def __init__(self, name, color = 'Silver'): #instanciamos el método constructor \n",
    "        self.name = name \n",
    "        self.color = color\n",
    "    \n",
    "    def getName(self):\n",
    "        return self.name #Siempre que se llame este método devolverá el nombre que se ha pasado cuando se instancia el objeto\n",
    "    \n",
    "    def getColor(self):\n",
    "        return self.color"
   ]
  },
  {
   "cell_type": "code",
   "execution_count": 13,
   "metadata": {},
   "outputs": [
    {
     "name": "stdout",
     "output_type": "stream",
     "text": [
      "Vehicle's name is Audi R8 and color is Silver \n"
     ]
    }
   ],
   "source": [
    "#Creamos una clase hijo\n",
    "class Car(Vehicle):\n",
    "    pass\n",
    "\n",
    "audi = Car(\"Audi R8\")\n",
    "print(f\"Vehicle's name is {audi.getName()} and color is {audi.getColor()} \")"
   ]
  },
  {
   "attachments": {},
   "cell_type": "markdown",
   "metadata": {},
   "source": [
    "También podemos anular un método o atributo principal. Por ejemplo el color.\n",
    "\n",
    "Hay dos formas:"
   ]
  },
  {
   "cell_type": "code",
   "execution_count": 14,
   "metadata": {},
   "outputs": [
    {
     "name": "stdout",
     "output_type": "stream",
     "text": [
      "Vehicle's name is Audi R8 and color is black \n"
     ]
    }
   ],
   "source": [
    "#Cambiando el color en Car\n",
    "audi = Car(\"Audi R8\", 'black') #De acuerdo al funcionamiento de python, esto es posible mientras sea ordenado\n",
    "print(f\"Vehicle's name is {audi.getName()} and color is {audi.getColor()} \")"
   ]
  },
  {
   "cell_type": "code",
   "execution_count": 15,
   "metadata": {},
   "outputs": [
    {
     "name": "stdout",
     "output_type": "stream",
     "text": [
      "Vehicle's name is Audi R8 and color is blue \n"
     ]
    }
   ],
   "source": [
    "class Car(Vehicle): #No es necesario instanciar un constructor pues lo hereda\n",
    "    def getColor(self):\n",
    "        self.color = 'blue'\n",
    "        return self.color\n",
    "\n",
    "audi = Car(\"Audi R8\")\n",
    "print(f\"Vehicle's name is {audi.getName()} and color is {audi.getColor()} \")"
   ]
  },
  {
   "attachments": {},
   "cell_type": "markdown",
   "metadata": {},
   "source": [
    "## Super\n",
    "\n",
    "**Super( )** devuelve un objeto temporal de la superclase que luego nos permite llamar a los métodos de esa superclase.\n",
    "\n",
    "Llamar a los métodos creados anteriormente con super() nos ahorra la necesidad de reescribir esos métodos en nuestra subclase, permite intercambiar superclases cin cambios mínimos de código."
   ]
  },
  {
   "cell_type": "code",
   "execution_count": 16,
   "metadata": {},
   "outputs": [
    {
     "name": "stdout",
     "output_type": "stream",
     "text": [
      "Car description: Car name: Audi R8 Color: Red\n",
      "Brand name: Audi \n"
     ]
    }
   ],
   "source": [
    "class Vehicle:\n",
    "    def __init__(self, name, color):\n",
    "        self.name = name \n",
    "        self.color = color\n",
    "    \n",
    "    def getName(self):\n",
    "        return self.name \n",
    "    \n",
    "class Car(Vehicle): \n",
    "    def __init__(self, name, model, color):\n",
    "        super().__init__(name, color)\n",
    "        self.model = model\n",
    "\n",
    "    def getDescription(self):\n",
    "        return \"Car name: \" + self.getName() + self.model + \" Color: \" + self.color\n",
    "\n",
    "c = Car(\"Audi \", \"R8\", \"Red\")\n",
    "print(f\"Car description: {c.getDescription()}\")\n",
    "print(f\"Brand name: {c.getName()}\")"
   ]
  },
  {
   "attachments": {},
   "cell_type": "markdown",
   "metadata": {},
   "source": [
    "## Herencia multiple\n",
    "\n",
    "Cuando una clase hereda el método y los atributos de la clase principal múltiple. Permite usar la propiedad de múltiples clases base o clases primarias en una clase derivada.\n",
    "\n",
    "*class DerivedClassName(Base1, Base2, Base3):*\n",
    "\n",
    "Como ejemplo se extenderá el ejemplo del vehículo creando 3 clases, vehículo, costo y automóvil.\n",
    "\n",
    "La herencia múltiple se debe hacer con cuidado porque puede causar ambiguedad en nuestros programas"
   ]
  },
  {
   "cell_type": "code",
   "execution_count": 17,
   "metadata": {},
   "outputs": [
    {
     "name": "stdout",
     "output_type": "stream",
     "text": [
      "Car description: AudiR8is the car and it´s cost is 2 cr\n"
     ]
    }
   ],
   "source": [
    "class Vehicle: #Clase padre 1\n",
    "    def __init__(self, brand_name):\n",
    "        self.brand_name = brand_name\n",
    "\n",
    "    def get_brand_name(self):\n",
    "        return self.brand_name\n",
    "    \n",
    "class Cost: #Clase padre 2\n",
    "    def __init__(self, cost):\n",
    "        self.cost = cost\n",
    "    \n",
    "    def get_cost(self):\n",
    "        return self.cost\n",
    "\n",
    "class Car(Vehicle, Cost):\n",
    "    def __init__(self, brand_name, model, cost):\n",
    "        self.model = model\n",
    "        Vehicle.__init__(self, brand_name) #Esta es una forma de llamar a los atributos de la clase padre diferente a Super\n",
    "        Cost.__init__(self,cost)\n",
    "    def get_description(self):\n",
    "        return self.get_brand_name() + self.model + 'is the car and it´s cost is ' + self.get_cost()\n",
    "    \n",
    "c = Car('Audi', 'R8', '2 cr')\n",
    "print(f'Car description: {c.get_description()}')"
   ]
  },
  {
   "attachments": {},
   "cell_type": "markdown",
   "metadata": {},
   "source": [
    "## Polimorfismo\n",
    "\n",
    "Significa tener muchas formas, en programación, significa el mismo nombre de función (pero diferentes firmas) que se utiliza para diferentes tipos.\n",
    "\n",
    "Extendamos el ejemplo usando polimorfismo creando dos clases, Car y Bike."
   ]
  },
  {
   "cell_type": "code",
   "execution_count": 18,
   "metadata": {},
   "outputs": [
    {
     "name": "stdout",
     "output_type": "stream",
     "text": [
      "Car belongs to Audi company\n",
      "The model is R8\n",
      "The color is silver\n",
      "Bike belongs to Pulsar company\n",
      "The model is dominar\n",
      "The color is black\n"
     ]
    }
   ],
   "source": [
    "class Car:\n",
    "    def company(self):\n",
    "        print('Car belongs to Audi company')\n",
    "\n",
    "    def model(self):\n",
    "        print('The model is R8')\n",
    "    \n",
    "    def color(self):\n",
    "        print('The color is silver')\n",
    "\n",
    "class Bike:\n",
    "    def  company(self):\n",
    "        print('Bike belongs to Pulsar company')\n",
    "    \n",
    "    def model(self):\n",
    "        print('The model is dominar')\n",
    "    \n",
    "    def color(self):\n",
    "        print('The color is black')\n",
    "\n",
    "def func(obj): #Aquí ocurre el polimorfismo\n",
    "    obj.company()\n",
    "    obj.model()\n",
    "    obj.color()\n",
    "\n",
    "car =  Car()\n",
    "bike = Bike()\n",
    "\n",
    "func(car)\n",
    "func(bike)"
   ]
  },
  {
   "attachments": {},
   "cell_type": "markdown",
   "metadata": {},
   "source": [
    "## Encapsulación\n",
    "\n",
    "En la mayoría de la POO, podemos restringir el acceso a métodos y variables. Esto puede evitar que los datos se modifiquen por accidente."
   ]
  },
  {
   "cell_type": "code",
   "execution_count": 19,
   "metadata": {},
   "outputs": [
    {
     "name": "stdout",
     "output_type": "stream",
     "text": [
      "AudiR8is the car and it´s cost is 2 cr\n"
     ]
    },
    {
     "ename": "AttributeError",
     "evalue": "'Car' object has no attribute '__engine'",
     "output_type": "error",
     "traceback": [
      "\u001b[1;31m---------------------------------------------------------------------------\u001b[0m",
      "\u001b[1;31mAttributeError\u001b[0m                            Traceback (most recent call last)",
      "Cell \u001b[1;32mIn[19], line 15\u001b[0m\n\u001b[0;32m     13\u001b[0m car \u001b[39m=\u001b[39m Car()\n\u001b[0;32m     14\u001b[0m \u001b[39mprint\u001b[39m(c\u001b[39m.\u001b[39mget_description())\n\u001b[1;32m---> 15\u001b[0m \u001b[39mprint\u001b[39m(c\u001b[39m.\u001b[39;49m__engine)\n",
      "\u001b[1;31mAttributeError\u001b[0m: 'Car' object has no attribute '__engine'"
     ]
    }
   ],
   "source": [
    "#Variable privada\n",
    "\n",
    "class Car():\n",
    "\n",
    "    def __init__(self):\n",
    "        self.brand_name = 'Audi'\n",
    "        self.model = 'R8'\n",
    "        self.__engine = '5.2 L V10'\n",
    "    \n",
    "    def get_description(self):\n",
    "        return self.brand_name + self.model + ' is the car'\n",
    "\n",
    "car = Car()\n",
    "print(c.get_description())\n",
    "print(c.__engine)"
   ]
  },
  {
   "cell_type": "code",
   "execution_count": 20,
   "metadata": {},
   "outputs": [
    {
     "name": "stdout",
     "output_type": "stream",
     "text": [
      "AudiR8is the car and it´s cost is 2 cr\n"
     ]
    },
    {
     "ename": "AttributeError",
     "evalue": "'Car' object has no attribute '__engine'",
     "output_type": "error",
     "traceback": [
      "\u001b[1;31m---------------------------------------------------------------------------\u001b[0m",
      "\u001b[1;31mAttributeError\u001b[0m                            Traceback (most recent call last)",
      "Cell \u001b[1;32mIn[20], line 18\u001b[0m\n\u001b[0;32m     16\u001b[0m car \u001b[39m=\u001b[39m Car()\n\u001b[0;32m     17\u001b[0m \u001b[39mprint\u001b[39m(c\u001b[39m.\u001b[39mget_description())\n\u001b[1;32m---> 18\u001b[0m \u001b[39mprint\u001b[39m(c\u001b[39m.\u001b[39;49m__engine())\n",
      "\u001b[1;31mAttributeError\u001b[0m: 'Car' object has no attribute '__engine'"
     ]
    }
   ],
   "source": [
    "#Método privado\n",
    "\n",
    "class Car():\n",
    "\n",
    "    def __init__(self):\n",
    "        self.brand_name = 'Audi'\n",
    "        self.model = 'R8'\n",
    "        self.__engine_name = '5.2 L V10'\n",
    "        \n",
    "    def __engine(self):\n",
    "        return '5.2 L V10'\n",
    "    \n",
    "    def get_description(self):\n",
    "        return self.brand_name + self.model + ' is the car'\n",
    "    \n",
    "car = Car()\n",
    "print(c.get_description())\n",
    "print(c.__engine())"
   ]
  },
  {
   "attachments": {},
   "cell_type": "markdown",
   "metadata": {},
   "source": [
    "Accediendo a atributos o métodos privados"
   ]
  },
  {
   "cell_type": "code",
   "execution_count": 21,
   "metadata": {},
   "outputs": [
    {
     "name": "stdout",
     "output_type": "stream",
     "text": [
      "AudiR8is the car and it´s cost is 2 cr\n",
      " Accesign private method 5.2 L V10\n",
      " Accesign private variable 5.2 L V10\n"
     ]
    }
   ],
   "source": [
    "print(c.get_description())\n",
    "print(f' Accesign private method {car._Car__engine()}')\n",
    "print(f' Accesign private variable {car._Car__engine_name}')\n"
   ]
  }
 ],
 "metadata": {
  "kernelspec": {
   "display_name": "Python 3",
   "language": "python",
   "name": "python3"
  },
  "language_info": {
   "codemirror_mode": {
    "name": "ipython",
    "version": 3
   },
   "file_extension": ".py",
   "mimetype": "text/x-python",
   "name": "python",
   "nbconvert_exporter": "python",
   "pygments_lexer": "ipython3",
   "version": "3.11.2"
  },
  "orig_nbformat": 4,
  "vscode": {
   "interpreter": {
    "hash": "85abef8e62eafa15aaf4e8d2d9a4dbb3fdb5bf9c0a9b27c51439132c3100d69e"
   }
  }
 },
 "nbformat": 4,
 "nbformat_minor": 2
}
